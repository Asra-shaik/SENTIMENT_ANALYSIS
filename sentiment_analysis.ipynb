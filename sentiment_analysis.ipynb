{
 "cells": [
  {
   "cell_type": "code",
   "execution_count": 63,
   "metadata": {},
   "outputs": [
    {
     "name": "stderr",
     "output_type": "stream",
     "text": [
      "C:\\Users\\kamil\\Anaconda3\\lib\\site-packages\\bs4\\__init__.py:181: UserWarning: No parser was explicitly specified, so I'm using the best available HTML parser for this system (\"lxml\"). This usually isn't a problem, but if you run this code on another system, or in a different virtual environment, it may use a different parser and behave differently.\n",
      "\n",
      "The code that caused this warning is on line 193 of the file C:\\Users\\kamil\\Anaconda3\\lib\\runpy.py. To get rid of this warning, change code that looks like this:\n",
      "\n",
      " BeautifulSoup(YOUR_MARKUP})\n",
      "\n",
      "to this:\n",
      "\n",
      " BeautifulSoup(YOUR_MARKUP, \"lxml\")\n",
      "\n",
      "  markup_type=markup_type))\n"
     ]
    }
   ],
   "source": [
    "from textblob import TextBlob\n",
    "from urllib.request import urlopen\n",
    "#urlopen is used to open a remote object across a network and read it.\n",
    "#urllib contains func for requesting data across web\n",
    "from bs4 import BeautifulSoup\n",
    "#bs is used for pulling data from html/xml files\n",
    "url=\"https://en.wikipedia.org/wiki/Machine_learning\"\n",
    "html=urlopen(url).read()#read source code\n",
    "soup=BeautifulSoup(html)\n",
    "#Now you have to pass something to BeautifulSoup to create a soup object.\n",
    "#That could be a document or an URL.(obj creation)\n",
    "for script in soup([\"script\",\"style\"]):\n",
    "    script.extract()\n",
    "text=soup.get_text()#text format\n",
    "tweets=[line.strip() for line in text.splitlines()]#lines/space remove"
   ]
  },
  {
   "cell_type": "code",
   "execution_count": 64,
   "metadata": {
    "collapsed": true
   },
   "outputs": [],
   "source": [
    "ptweets = [tweet for tweet in tweets if TextBlob(tweet).sentiment.polarity>0] #TO KNOW THE POSITIVE SENTENCE"
   ]
  },
  {
   "cell_type": "code",
   "execution_count": 65,
   "metadata": {},
   "outputs": [
    {
     "name": "stdout",
     "output_type": "stream",
     "text": [
      "Positive tweets percentage: 7.598039215686274 %\n"
     ]
    }
   ],
   "source": [
    "print(\"Positive tweets percentage: {} %\".format(100*len(ptweets)/len(tweets))) #PERCENTAGE OF POSITIVE SENTENCE "
   ]
  },
  {
   "cell_type": "code",
   "execution_count": 66,
   "metadata": {},
   "outputs": [
    {
     "name": "stdout",
     "output_type": "stream",
     "text": [
      "Negative tweets percentage: 5.759803921568627 %\n"
     ]
    }
   ],
   "source": [
    "ntweets = [tweet for tweet in tweets if TextBlob(tweet).sentiment.polarity<0]\n",
    "print(\"Negative tweets percentage: {} %\".format(100*len(ntweets)/len(tweets)))  #PERCENTAGE OF NEGATIVE SENTENCE"
   ]
  },
  {
   "cell_type": "code",
   "execution_count": 67,
   "metadata": {},
   "outputs": [
    {
     "name": "stdout",
     "output_type": "stream",
     "text": [
      "Neutral tweets percentage: 86.6421568627451 %\n"
     ]
    }
   ],
   "source": [
    "neu_tweets = [tweet for tweet in tweets if TextBlob(tweet).sentiment.polarity==0]\n",
    "print(\"Neutral tweets percentage: {} %\".format(100*len(neu_tweets)/len(tweets)))   #PERCENTAGE OF NEUTRAL SENTENCE"
   ]
  },
  {
   "cell_type": "code",
   "execution_count": 71,
   "metadata": {},
   "outputs": [
    {
     "data": {
      "image/png": "[encoded data removed]",
      "text/plain": [
       "<matplotlib.figure.Figure at 0xc653208>"
      ]
     },
     "metadata": {},
     "output_type": "display_data"
    }
   ],
   "source": [
    "# DATA VISUALIZATION\n",
    "import matplotlib.pyplot as plt\n",
    " \n",
    "# Data to plot\n",
    "labels = \"poitive\",\"Negative\",\"Neutral\"\n",
    "sizes = [len(ptweets), len(ntweets), len(neu_tweets)]\n",
    "colors = [\"b\",\"g\",\"m\"]\n",
    "explode = (0.25, 0.5, 0)  # explode 1st slice\n",
    " \n",
    "# Plot\n",
    "plt.pie(sizes, explode=explode, labels=labels, colors=colors,autopct='%1.1f%%', shadow=True, startangle=140)\n",
    " \n",
    "plt.axis('equal')\n",
    "plt.show()"
   ]
  },
  {
   "cell_type": "code",
   "execution_count": null,
   "metadata": {
    "collapsed": true
   },
   "outputs": [],
   "source": []
  }
 ],
 "metadata": {
  "kernelspec": {
   "display_name": "Python 3",
   "language": "python",
   "name": "python3"
  },
  "language_info": {
   "codemirror_mode": {
    "name": "ipython",
    "version": 3
   },
   "file_extension": ".py",
   "mimetype": "text/x-python",
   "name": "python",
   "nbconvert_exporter": "python",
   "pygments_lexer": "ipython3",
   "version": "3.6.1"
  }
 },
 "nbformat": 4,
 "nbformat_minor": 2
}
